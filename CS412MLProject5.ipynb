{
 "cells": [
  {
   "cell_type": "markdown",
   "metadata": {},
   "source": [
    "# CS 412 Homework 5"
   ]
  },
  {
   "cell_type": "markdown",
   "metadata": {},
   "source": [
    "Project Description: You are working for a non-profit\tthat is\trecruiting student volunteers to help with Alzheimer’s\t\n",
    "patients.You have been tasked with predicting how suitable a person is for this task by predicting how empathetic he or she\tis.\t"
   ]
  },
  {
   "cell_type": "markdown",
   "metadata": {},
   "source": [
    "Let's start by importing all the libararies we need for the project from sklearn"
   ]
  },
  {
   "cell_type": "code",
   "execution_count": 1,
   "metadata": {},
   "outputs": [],
   "source": [
    "import pandas\n",
    "import numpy as np\n",
    "from sklearn.model_selection import train_test_split\n",
    "from sklearn.linear_model import LinearRegression\n",
    "from sklearn.metrics import accuracy_score\n",
    "from sklearn.ensemble import ExtraTreesClassifier\n",
    "from sklearn.linear_model import LogisticRegression\n",
    "from sklearn.feature_selection import RFE\n",
    "from sklearn.svm import LinearSVC\n",
    "from sklearn.ensemble import RandomForestClassifier\n",
    "from sklearn.multiclass import OneVsRestClassifier\n",
    "from sklearn.ensemble import BaggingClassifier\n",
    "from sklearn.neighbors import KNeighborsClassifier\n",
    "from sklearn.linear_model import LogisticRegression\n",
    "from sklearn.naive_bayes import GaussianNB\n",
    "from sklearn.ensemble import RandomForestClassifier\n",
    "from sklearn.ensemble import VotingClassifier\n",
    "from sklearn.model_selection import GridSearchCV\n",
    "from sklearn.svm import SVC\n",
    "from sklearn.tree import DecisionTreeClassifier\n",
    "import matplotlib.pyplot as plt\n",
    "from sklearn import model_selection\n",
    "from sklearn.linear_model import LogisticRegression\n",
    "from sklearn.tree import DecisionTreeClassifier\n",
    "from sklearn.neighbors import KNeighborsClassifier\n",
    "from sklearn.discriminant_analysis import LinearDiscriminantAnalysis"
   ]
  },
  {
   "cell_type": "code",
   "execution_count": 2,
   "metadata": {},
   "outputs": [
    {
     "name": "stdout",
     "output_type": "stream",
     "text": [
      "Reading responses.csv into a dataframe\n"
     ]
    }
   ],
   "source": [
    "print(\"Reading responses.csv into a dataframe\")\n",
    "import pandas as pd\n",
    "df = pd.read_csv(\"responses.csv\")"
   ]
  },
  {
   "cell_type": "code",
   "execution_count": 3,
   "metadata": {},
   "outputs": [
    {
     "data": {
      "text/plain": [
       "(1010, 150)"
      ]
     },
     "execution_count": 3,
     "metadata": {},
     "output_type": "execute_result"
    }
   ],
   "source": [
    "df.shape"
   ]
  },
  {
   "cell_type": "code",
   "execution_count": 4,
   "metadata": {},
   "outputs": [
    {
     "name": "stdout",
     "output_type": "stream",
     "text": [
      "Printing df.head()\n"
     ]
    },
    {
     "data": {
      "text/html": [
       "<div>\n",
       "<style scoped>\n",
       "    .dataframe tbody tr th:only-of-type {\n",
       "        vertical-align: middle;\n",
       "    }\n",
       "\n",
       "    .dataframe tbody tr th {\n",
       "        vertical-align: top;\n",
       "    }\n",
       "\n",
       "    .dataframe thead th {\n",
       "        text-align: right;\n",
       "    }\n",
       "</style>\n",
       "<table border=\"1\" class=\"dataframe\">\n",
       "  <thead>\n",
       "    <tr style=\"text-align: right;\">\n",
       "      <th></th>\n",
       "      <th>Music</th>\n",
       "      <th>Slow songs or fast songs</th>\n",
       "      <th>Dance</th>\n",
       "      <th>Folk</th>\n",
       "      <th>Country</th>\n",
       "      <th>Classical music</th>\n",
       "      <th>Musical</th>\n",
       "      <th>Pop</th>\n",
       "      <th>Rock</th>\n",
       "      <th>Metal or Hardrock</th>\n",
       "      <th>...</th>\n",
       "      <th>Age</th>\n",
       "      <th>Height</th>\n",
       "      <th>Weight</th>\n",
       "      <th>Number of siblings</th>\n",
       "      <th>Gender</th>\n",
       "      <th>Left - right handed</th>\n",
       "      <th>Education</th>\n",
       "      <th>Only child</th>\n",
       "      <th>Village - town</th>\n",
       "      <th>House - block of flats</th>\n",
       "    </tr>\n",
       "  </thead>\n",
       "  <tbody>\n",
       "    <tr>\n",
       "      <th>0</th>\n",
       "      <td>5.0</td>\n",
       "      <td>3.0</td>\n",
       "      <td>2.0</td>\n",
       "      <td>1.0</td>\n",
       "      <td>2.0</td>\n",
       "      <td>2.0</td>\n",
       "      <td>1.0</td>\n",
       "      <td>5.0</td>\n",
       "      <td>5.0</td>\n",
       "      <td>1.0</td>\n",
       "      <td>...</td>\n",
       "      <td>20.0</td>\n",
       "      <td>163.0</td>\n",
       "      <td>48.0</td>\n",
       "      <td>1.0</td>\n",
       "      <td>female</td>\n",
       "      <td>right handed</td>\n",
       "      <td>college/bachelor degree</td>\n",
       "      <td>no</td>\n",
       "      <td>village</td>\n",
       "      <td>block of flats</td>\n",
       "    </tr>\n",
       "    <tr>\n",
       "      <th>1</th>\n",
       "      <td>4.0</td>\n",
       "      <td>4.0</td>\n",
       "      <td>2.0</td>\n",
       "      <td>1.0</td>\n",
       "      <td>1.0</td>\n",
       "      <td>1.0</td>\n",
       "      <td>2.0</td>\n",
       "      <td>3.0</td>\n",
       "      <td>5.0</td>\n",
       "      <td>4.0</td>\n",
       "      <td>...</td>\n",
       "      <td>19.0</td>\n",
       "      <td>163.0</td>\n",
       "      <td>58.0</td>\n",
       "      <td>2.0</td>\n",
       "      <td>female</td>\n",
       "      <td>right handed</td>\n",
       "      <td>college/bachelor degree</td>\n",
       "      <td>no</td>\n",
       "      <td>city</td>\n",
       "      <td>block of flats</td>\n",
       "    </tr>\n",
       "    <tr>\n",
       "      <th>2</th>\n",
       "      <td>5.0</td>\n",
       "      <td>5.0</td>\n",
       "      <td>2.0</td>\n",
       "      <td>2.0</td>\n",
       "      <td>3.0</td>\n",
       "      <td>4.0</td>\n",
       "      <td>5.0</td>\n",
       "      <td>3.0</td>\n",
       "      <td>5.0</td>\n",
       "      <td>3.0</td>\n",
       "      <td>...</td>\n",
       "      <td>20.0</td>\n",
       "      <td>176.0</td>\n",
       "      <td>67.0</td>\n",
       "      <td>2.0</td>\n",
       "      <td>female</td>\n",
       "      <td>right handed</td>\n",
       "      <td>secondary school</td>\n",
       "      <td>no</td>\n",
       "      <td>city</td>\n",
       "      <td>block of flats</td>\n",
       "    </tr>\n",
       "    <tr>\n",
       "      <th>3</th>\n",
       "      <td>5.0</td>\n",
       "      <td>3.0</td>\n",
       "      <td>2.0</td>\n",
       "      <td>1.0</td>\n",
       "      <td>1.0</td>\n",
       "      <td>1.0</td>\n",
       "      <td>1.0</td>\n",
       "      <td>2.0</td>\n",
       "      <td>2.0</td>\n",
       "      <td>1.0</td>\n",
       "      <td>...</td>\n",
       "      <td>22.0</td>\n",
       "      <td>172.0</td>\n",
       "      <td>59.0</td>\n",
       "      <td>1.0</td>\n",
       "      <td>female</td>\n",
       "      <td>right handed</td>\n",
       "      <td>college/bachelor degree</td>\n",
       "      <td>yes</td>\n",
       "      <td>city</td>\n",
       "      <td>house/bungalow</td>\n",
       "    </tr>\n",
       "    <tr>\n",
       "      <th>4</th>\n",
       "      <td>5.0</td>\n",
       "      <td>3.0</td>\n",
       "      <td>4.0</td>\n",
       "      <td>3.0</td>\n",
       "      <td>2.0</td>\n",
       "      <td>4.0</td>\n",
       "      <td>3.0</td>\n",
       "      <td>5.0</td>\n",
       "      <td>3.0</td>\n",
       "      <td>1.0</td>\n",
       "      <td>...</td>\n",
       "      <td>20.0</td>\n",
       "      <td>170.0</td>\n",
       "      <td>59.0</td>\n",
       "      <td>1.0</td>\n",
       "      <td>female</td>\n",
       "      <td>right handed</td>\n",
       "      <td>secondary school</td>\n",
       "      <td>no</td>\n",
       "      <td>village</td>\n",
       "      <td>house/bungalow</td>\n",
       "    </tr>\n",
       "  </tbody>\n",
       "</table>\n",
       "<p>5 rows × 150 columns</p>\n",
       "</div>"
      ],
      "text/plain": [
       "   Music  Slow songs or fast songs  Dance  Folk  Country  Classical music  \\\n",
       "0    5.0                       3.0    2.0   1.0      2.0              2.0   \n",
       "1    4.0                       4.0    2.0   1.0      1.0              1.0   \n",
       "2    5.0                       5.0    2.0   2.0      3.0              4.0   \n",
       "3    5.0                       3.0    2.0   1.0      1.0              1.0   \n",
       "4    5.0                       3.0    4.0   3.0      2.0              4.0   \n",
       "\n",
       "   Musical  Pop  Rock  Metal or Hardrock           ...             Age  \\\n",
       "0      1.0  5.0   5.0                1.0           ...            20.0   \n",
       "1      2.0  3.0   5.0                4.0           ...            19.0   \n",
       "2      5.0  3.0   5.0                3.0           ...            20.0   \n",
       "3      1.0  2.0   2.0                1.0           ...            22.0   \n",
       "4      3.0  5.0   3.0                1.0           ...            20.0   \n",
       "\n",
       "   Height  Weight  Number of siblings  Gender  Left - right handed  \\\n",
       "0   163.0    48.0                 1.0  female         right handed   \n",
       "1   163.0    58.0                 2.0  female         right handed   \n",
       "2   176.0    67.0                 2.0  female         right handed   \n",
       "3   172.0    59.0                 1.0  female         right handed   \n",
       "4   170.0    59.0                 1.0  female         right handed   \n",
       "\n",
       "                 Education  Only child  Village - town  House - block of flats  \n",
       "0  college/bachelor degree          no         village          block of flats  \n",
       "1  college/bachelor degree          no            city          block of flats  \n",
       "2         secondary school          no            city          block of flats  \n",
       "3  college/bachelor degree         yes            city          house/bungalow  \n",
       "4         secondary school          no         village          house/bungalow  \n",
       "\n",
       "[5 rows x 150 columns]"
      ]
     },
     "execution_count": 4,
     "metadata": {},
     "output_type": "execute_result"
    }
   ],
   "source": [
    "print(\"Printing df.head()\")\n",
    "df.head()\n"
   ]
  },
  {
   "cell_type": "markdown",
   "metadata": {},
   "source": [
    "# EDA"
   ]
  },
  {
   "cell_type": "markdown",
   "metadata": {},
   "source": [
    "Now that we have the dataframe, lets do some visualization!"
   ]
  },
  {
   "cell_type": "markdown",
   "metadata": {},
   "source": [
    "Let's first check how Education relates with Empathy, and what percentage of people with different education are empathetic. \n",
    "We have considered the fact that Empathy values 4-5 are empathetic."
   ]
  },
  {
   "cell_type": "code",
   "execution_count": 5,
   "metadata": {},
   "outputs": [
    {
     "data": {
      "image/png": "[encoded data removed]",
      "text/plain": [
       "<Figure size 432x288 with 1 Axes>"
      ]
     },
     "metadata": {},
     "output_type": "display_data"
    }
   ],
   "source": [
    "import matplotlib.pyplot as plt\n",
    "c_empathetic = 0\n",
    "s_empathetic = 0\n",
    "p_empathetic = 0\n",
    "m_empathetic = 0\n",
    "d_empathetic = 0\n",
    "cu_empathetic = 0\n",
    "for i,value in enumerate(df['Education'].values):\n",
    "    if(value == 'college/bachelor degree' and df['Empathy'].values[i]>=4):\n",
    "        c_empathetic += 1\n",
    "    elif(value == 'secondary school' and df['Empathy'].values[i]>=4):\n",
    "        s_empathetic += 1\n",
    "    elif(value == 'primary school' and df['Empathy'].values[i]>=4):\n",
    "        p_empathetic += 1\n",
    "    elif(value == 'masters degree' and df['Empathy'].values[i]>=4):\n",
    "        m_empathetic += 1\n",
    "    elif(value == 'doctorate degree' and df['Empathy'].values[i]>=4):\n",
    "        d_empathetic += 1\n",
    "    elif(value == 'currently a primary school pupil' and df['Empathy'].values[i]>=4):\n",
    "        cu_empathetic += 1\n",
    "\n",
    "labels = ['college/bachelor degree','secondary school','primary school','masters degree','doctorate degree','currently a primary school pupil']\n",
    "sizes = [c_empathetic, s_empathetic,p_empathetic,m_empathetic,d_empathetic,cu_empathetic]\n",
    "\n",
    "fig1, ax1 = plt.subplots()\n",
    "ax1.pie(sizes,  labels=labels, autopct='%1.1f%%',shadow=True, startangle=90)\n",
    "ax1.axis('equal')  \n",
    "plt.title('Education vs Empathy', bbox={'facecolor':'0.8', 'pad':5})\n",
    "plt.show()"
   ]
  },
  {
   "cell_type": "markdown",
   "metadata": {},
   "source": [
    "Let's now check how Smoking relates with Empathy, and what percentage of people with different smoking habits are empathetic. We have considered the fact that Empathy values 4-5 are empathetic."
   ]
  },
  {
   "cell_type": "code",
   "execution_count": 6,
   "metadata": {},
   "outputs": [
    {
     "data": {
      "image/png": "[encoded data removed]",
      "text/plain": [
       "<Figure size 432x288 with 1 Axes>"
      ]
     },
     "metadata": {},
     "output_type": "display_data"
    }
   ],
   "source": [
    "import matplotlib.pyplot as plt\n",
    "n_empathetic = 0\n",
    "tr_empathetic = 0\n",
    "fm_empathetic = 0\n",
    "cr_empathetic = 0\n",
    "\n",
    "for i,value in enumerate(df['Smoking'].values):\n",
    "    if(value == 'never smoked' and df['Empathy'].values[i]>=4):\n",
    "        n_empathetic += 1\n",
    "    elif(value == 'tried smoking' and df['Empathy'].values[i]>=4):\n",
    "        tr_empathetic += 1\n",
    "    elif(value == 'former smoker' and df['Empathy'].values[i]>=4):\n",
    "        fm_empathetic += 1\n",
    "    elif(value == 'current smoker' and df['Empathy'].values[i]>=4):\n",
    "        cr_empathetic += 1\n",
    "    \n",
    "\n",
    "labels = ['never smoked','tried smoking','former smoker','current smoker']\n",
    "sizes = [n_empathetic, tr_empathetic,fm_empathetic,cr_empathetic]\n",
    "\n",
    "fig1, ax1 = plt.subplots()\n",
    "ax1.pie(sizes,  labels=labels, autopct='%1.1f%%',shadow=True, startangle=90)\n",
    "ax1.axis('equal')  \n",
    "plt.title('Smoking vs Empathy', bbox={'facecolor':'0.8', 'pad':5})\n",
    "plt.show()"
   ]
  },
  {
   "cell_type": "markdown",
   "metadata": {},
   "source": [
    "Previously, we loaded the responses.csv file into a dataframe.\n",
    "Let's now get an insight into the data.\n",
    "There are 11 catogorical columns and these values are converted from string to integers.\n",
    "Let's first find the unique value of each catogorical column."
   ]
  },
  {
   "cell_type": "code",
   "execution_count": 7,
   "metadata": {},
   "outputs": [
    {
     "name": "stdout",
     "output_type": "stream",
     "text": [
      "Finding the unique values for the catogorical attributes\n"
     ]
    },
    {
     "data": {
      "text/plain": [
       "array(['never smoked', 'tried smoking', 'former smoker', 'current smoker',\n",
       "       nan], dtype=object)"
      ]
     },
     "execution_count": 7,
     "metadata": {},
     "output_type": "execute_result"
    }
   ],
   "source": [
    "print(\"Finding the unique values for the catogorical attributes\")\n",
    "df['Smoking'].unique()\n"
   ]
  },
  {
   "cell_type": "code",
   "execution_count": 8,
   "metadata": {},
   "outputs": [
    {
     "data": {
      "text/plain": [
       "array(['drink a lot', 'social drinker', 'never', nan], dtype=object)"
      ]
     },
     "execution_count": 8,
     "metadata": {},
     "output_type": "execute_result"
    }
   ],
   "source": [
    "df['Alcohol'].unique()\n"
   ]
  },
  {
   "cell_type": "code",
   "execution_count": 9,
   "metadata": {},
   "outputs": [
    {
     "data": {
      "text/plain": [
       "array(['i am always on time', 'i am often early',\n",
       "       'i am often running late', nan], dtype=object)"
      ]
     },
     "execution_count": 9,
     "metadata": {},
     "output_type": "execute_result"
    }
   ],
   "source": [
    "df['Punctuality'].unique()\n"
   ]
  },
  {
   "cell_type": "code",
   "execution_count": 10,
   "metadata": {},
   "outputs": [
    {
     "data": {
      "text/plain": [
       "array(['never', 'sometimes', 'only to avoid hurting someone',\n",
       "       'everytime it suits me', nan], dtype=object)"
      ]
     },
     "execution_count": 10,
     "metadata": {},
     "output_type": "execute_result"
    }
   ],
   "source": [
    "df['Lying'].unique()\n"
   ]
  },
  {
   "cell_type": "code",
   "execution_count": 11,
   "metadata": {},
   "outputs": [
    {
     "data": {
      "text/plain": [
       "array(['few hours a day', 'most of the day', 'less than an hour a day',\n",
       "       'no time at all'], dtype=object)"
      ]
     },
     "execution_count": 11,
     "metadata": {},
     "output_type": "execute_result"
    }
   ],
   "source": [
    "df['Internet usage'].unique()\n"
   ]
  },
  {
   "cell_type": "code",
   "execution_count": 12,
   "metadata": {},
   "outputs": [
    {
     "data": {
      "text/plain": [
       "array(['female', 'male', nan], dtype=object)"
      ]
     },
     "execution_count": 12,
     "metadata": {},
     "output_type": "execute_result"
    }
   ],
   "source": [
    "df[\"Gender\"].unique()\n"
   ]
  },
  {
   "cell_type": "code",
   "execution_count": 13,
   "metadata": {},
   "outputs": [
    {
     "data": {
      "text/plain": [
       "array(['no', 'yes', nan], dtype=object)"
      ]
     },
     "execution_count": 13,
     "metadata": {},
     "output_type": "execute_result"
    }
   ],
   "source": [
    "df['Only child'].unique()\n"
   ]
  },
  {
   "cell_type": "code",
   "execution_count": 14,
   "metadata": {},
   "outputs": [
    {
     "data": {
      "text/plain": [
       "array(['village', 'city', nan], dtype=object)"
      ]
     },
     "execution_count": 14,
     "metadata": {},
     "output_type": "execute_result"
    }
   ],
   "source": [
    "df['Village - town'].unique()\n"
   ]
  },
  {
   "cell_type": "code",
   "execution_count": 15,
   "metadata": {},
   "outputs": [
    {
     "data": {
      "text/plain": [
       "array(['block of flats', 'house/bungalow', nan], dtype=object)"
      ]
     },
     "execution_count": 15,
     "metadata": {},
     "output_type": "execute_result"
    }
   ],
   "source": [
    "df['House - block of flats'].unique()"
   ]
  },
  {
   "cell_type": "markdown",
   "metadata": {},
   "source": [
    "# Data Preprocessing"
   ]
  },
  {
   "cell_type": "markdown",
   "metadata": {},
   "source": [
    "We found the unique values of each catogorical column.Let us now convert these string values to integers.\n",
    "Data is preprocessed using the following methods"
   ]
  },
  {
   "cell_type": "markdown",
   "metadata": {},
   "source": [
    "# Method 1- Converting string values to integer values in the catogorical coulmn"
   ]
  },
  {
   "cell_type": "code",
   "execution_count": 16,
   "metadata": {},
   "outputs": [
    {
     "name": "stdout",
     "output_type": "stream",
     "text": [
      "Converting catogorical values to integers between (1-5)\n"
     ]
    }
   ],
   "source": [
    "print(\"Converting catogorical values to integers between (1-5)\")\n",
    "for i in df[\"Smoking\"]:\n",
    "    if i == \"never smoked\":\n",
    "        df.replace(i, 1.0, inplace=True)\n",
    "    elif i == \"tried smoking\":\n",
    "        df.replace(i, 2.0, inplace=True)\n",
    "    elif i == \"former smoker\":\n",
    "        df.replace(i, 3.0, inplace=True)\n",
    "    elif i == \"current smoker\":\n",
    "        df.replace(i, 4.0, inplace=True)"
   ]
  },
  {
   "cell_type": "code",
   "execution_count": 17,
   "metadata": {},
   "outputs": [],
   "source": [
    "for i in df[\"Alcohol\"]:\n",
    "    if i == \"never\":\n",
    "        df.replace(i, 1.0, inplace=True)\n",
    "    elif i == \"social drinker\":\n",
    "        df.replace(i, 2.0, inplace=True)\n",
    "    elif i == \"drink a lot\":\n",
    "        df.replace(i, 3.0, inplace=True)"
   ]
  },
  {
   "cell_type": "code",
   "execution_count": 18,
   "metadata": {},
   "outputs": [],
   "source": [
    "for i in df[\"Punctuality\"]:\n",
    "    if i == \"i am always on time\":\n",
    "        df.replace(i, 1.0, inplace=True)\n",
    "    elif i == \"i am often early\":\n",
    "        df.replace(i, 2.0, inplace=True)\n",
    "    elif i == \"i am often running late\":\n",
    "        df.replace(i, 3.0, inplace=True)"
   ]
  },
  {
   "cell_type": "code",
   "execution_count": 19,
   "metadata": {},
   "outputs": [],
   "source": [
    "for i in df[\"Lying\"]:\n",
    "    if i == \"never\":\n",
    "        df.replace(i, 1.0, inplace=True)\n",
    "    elif i == \"sometimes\":\n",
    "        df.replace(i, 2.0, inplace=True)\n",
    "    elif i == \"only to avoid hurting someone\":\n",
    "        df.replace(i, 3.0, inplace=True)\n",
    "    elif i == \"everytime it suits me\":\n",
    "        df.replace(i, 4.0, inplace=True)"
   ]
  },
  {
   "cell_type": "code",
   "execution_count": 20,
   "metadata": {},
   "outputs": [],
   "source": [
    "for i in df[\"Internet usage\"]:\n",
    "    if i == \"few hours a day\":\n",
    "        df.replace(i, 1.0, inplace=True)\n",
    "    elif i == \"most of the day\":\n",
    "        df.replace(i, 2.0, inplace=True)\n",
    "    elif i == \"less than an hour a day\":\n",
    "        df.replace(i, 3.0, inplace=True)\n",
    "    elif i == \"no time at all\":\n",
    "        df.replace(i, 4.0, inplace=True)"
   ]
  },
  {
   "cell_type": "code",
   "execution_count": 21,
   "metadata": {},
   "outputs": [],
   "source": [
    "for i in df[\"Gender\"]:\n",
    "    if i == \"female\":\n",
    "        df.replace(i, 1.0, inplace=True)\n",
    "    elif i == \"male\":\n",
    "        df.replace(i, 2.0, inplace=True)"
   ]
  },
  {
   "cell_type": "code",
   "execution_count": 22,
   "metadata": {},
   "outputs": [],
   "source": [
    "for i in df[\"Left - right handed\"]:\n",
    "    if i == \"right handed\":\n",
    "        df.replace(i, 1.0, inplace=True)\n",
    "    elif i == \"left handed\":\n",
    "        df.replace(i, 2.0, inplace=True)"
   ]
  },
  {
   "cell_type": "code",
   "execution_count": 23,
   "metadata": {},
   "outputs": [],
   "source": [
    "for i in df[\"Education\"]:\n",
    "    if i == \"college/bachelor degree\":\n",
    "        df.replace(i, 1.0, inplace=True)\n",
    "    elif i == \"secondary school\":\n",
    "        df.replace(i, 2.0, inplace=True)\n",
    "    elif i == \"primary school\":\n",
    "        df.replace(i, 3.0, inplace=True)\n",
    "    elif i == \"masters degree\":\n",
    "        df.replace(i, 4.0, inplace=True)\n",
    "    elif i == \"doctorate degree\":\n",
    "        df.replace(i, 5.0, inplace=True)\n",
    "    elif i == \"currently a primary school pupil\":\n",
    "        df.replace(i, 6.0, inplace=True)"
   ]
  },
  {
   "cell_type": "code",
   "execution_count": 24,
   "metadata": {},
   "outputs": [],
   "source": [
    "for i in df[\"Only child\"]:\n",
    "    if i == \"no\":\n",
    "        df.replace(i, 1.0, inplace=True)\n",
    "    elif i == \"yes\":\n",
    "        df.replace(i, 2.0, inplace=True)"
   ]
  },
  {
   "cell_type": "code",
   "execution_count": 25,
   "metadata": {},
   "outputs": [],
   "source": [
    "for i in df[\"House - block of flats\"]:\n",
    "    if i == \"block of flats\":\n",
    "        df.replace(i, 1.0, inplace=True)\n",
    "    elif i == \"house/bungalow\":\n",
    "        df.replace(i, 2.0, inplace=True)"
   ]
  },
  {
   "cell_type": "code",
   "execution_count": 26,
   "metadata": {},
   "outputs": [],
   "source": [
    "for i in df[\"Village - town\"]:\n",
    "    if i == \"village\":\n",
    "        df.replace(i, 1.0, inplace=True)\n",
    "    elif i == \"city\":\n",
    "        df.replace(i, 2.0, inplace=True)"
   ]
  },
  {
   "cell_type": "markdown",
   "metadata": {},
   "source": [
    "# Method 2-Imputing Nan values with most frequent"
   ]
  },
  {
   "cell_type": "markdown",
   "metadata": {},
   "source": [
    "Let's first find the number of Nan values in each column"
   ]
  },
  {
   "cell_type": "code",
   "execution_count": 27,
   "metadata": {},
   "outputs": [
    {
     "data": {
      "text/plain": [
       "Music                          3\n",
       "Slow songs or fast songs       2\n",
       "Dance                          4\n",
       "Folk                           5\n",
       "Country                        5\n",
       "Classical music                7\n",
       "Musical                        2\n",
       "Pop                            3\n",
       "Rock                           6\n",
       "Metal or Hardrock              3\n",
       "Punk                           8\n",
       "Hiphop, Rap                    4\n",
       "Reggae, Ska                    7\n",
       "Swing, Jazz                    6\n",
       "Rock n roll                    7\n",
       "Alternative                    7\n",
       "Latino                         8\n",
       "Techno, Trance                 7\n",
       "Opera                          1\n",
       "Movies                         6\n",
       "Horror                         2\n",
       "Thriller                       1\n",
       "Comedy                         3\n",
       "Romantic                       3\n",
       "Sci-fi                         2\n",
       "War                            2\n",
       "Fantasy/Fairy tales            3\n",
       "Animated                       3\n",
       "Documentary                    8\n",
       "Western                        4\n",
       "                              ..\n",
       "Public speaking                2\n",
       "Unpopularity                   3\n",
       "Life struggles                 3\n",
       "Happiness in life              4\n",
       "Energy levels                  5\n",
       "Small - big dogs               4\n",
       "Personality                    4\n",
       "Finding lost valuables         4\n",
       "Getting up                     5\n",
       "Interests or hobbies           3\n",
       "Parents' advice                2\n",
       "Questionnaires or polls        4\n",
       "Internet usage                 0\n",
       "Finances                       3\n",
       "Shopping centres               2\n",
       "Branded clothing               2\n",
       "Entertainment spending         3\n",
       "Spending on looks              3\n",
       "Spending on gadgets            0\n",
       "Spending on healthy eating     2\n",
       "Age                            7\n",
       "Height                        20\n",
       "Weight                        20\n",
       "Number of siblings             6\n",
       "Gender                         6\n",
       "Left - right handed            3\n",
       "Education                      1\n",
       "Only child                     2\n",
       "Village - town                 4\n",
       "House - block of flats         4\n",
       "Length: 150, dtype: int64"
      ]
     },
     "execution_count": 27,
     "metadata": {},
     "output_type": "execute_result"
    }
   ],
   "source": [
    "df.isnull().sum()"
   ]
  },
  {
   "cell_type": "markdown",
   "metadata": {},
   "source": [
    "We now replace Nan by the most frequent value."
   ]
  },
  {
   "cell_type": "code",
   "execution_count": 28,
   "metadata": {},
   "outputs": [
    {
     "name": "stdout",
     "output_type": "stream",
     "text": [
      "Imputing the NaN values with the mode\n"
     ]
    }
   ],
   "source": [
    "print(\"Imputing the NaN values with the mode\")\n",
    "from sklearn.preprocessing import Imputer\n",
    "imp = Imputer(missing_values='NaN', strategy='most_frequent', axis=0)\n",
    "imp.fit(df)\n",
    "df_data = imp.transform(df)\n",
    "df = pd.DataFrame(data=df_data[:,:],\n",
    "                     index=[i for i in range(len(df_data))],\n",
    "                     columns=df.columns.tolist())"
   ]
  },
  {
   "cell_type": "markdown",
   "metadata": {},
   "source": [
    "# Method 4- The best features are scored and chosen using SelectKBest and chi2 as the scoring function"
   ]
  },
  {
   "cell_type": "markdown",
   "metadata": {},
   "source": [
    "The features and labels are seperated into x_all and y_all respectively and the best features from SelectKBest\n",
    "are assigned to x_all."
   ]
  },
  {
   "cell_type": "code",
   "execution_count": 29,
   "metadata": {},
   "outputs": [
    {
     "name": "stdout",
     "output_type": "stream",
     "text": [
      "Selecting the best features\n"
     ]
    }
   ],
   "source": [
    "from sklearn import model_selection\n",
    "from sklearn.feature_selection import SelectKBest\n",
    "from sklearn.feature_selection import chi2\n",
    "\n",
    "print(\"Selecting the best features\")\n",
    "y_all = [i for i in df.iloc[:, 95]]\n",
    "responses_train = df.drop([\"Empathy\"], axis=1)\n",
    "x_all = responses_train.iloc[:, :].values\n",
    "\n",
    "test = SelectKBest(score_func=chi2, k=100)\n",
    "bestfit = test.fit(x_all, y_all)\n",
    "features = bestfit.transform(x_all)\n",
    "x_all=features"
   ]
  },
  {
   "cell_type": "markdown",
   "metadata": {},
   "source": [
    "Let's see what the best features are!"
   ]
  },
  {
   "cell_type": "code",
   "execution_count": 30,
   "metadata": {},
   "outputs": [
    {
     "name": "stdout",
     "output_type": "stream",
     "text": [
      "Index(['Slow songs or fast songs', 'Folk', 'Country', 'Musical', 'Rock',\n",
      "       'Metal or Hardrock', 'Punk', 'Reggae, Ska', 'Alternative', 'Latino',\n",
      "       'Techno, Trance', 'Opera', 'Horror', 'Thriller', 'Romantic', 'Sci-fi',\n",
      "       'Fantasy/Fairy tales', 'Documentary', 'Western', 'Action', 'History',\n",
      "       'Psychology', 'Politics', 'Mathematics', 'Physics', 'PC',\n",
      "       'Economy Management', 'Biology', 'Reading', 'Geography',\n",
      "       'Foreign languages', 'Law', 'Cars', 'Art exhibitions',\n",
      "       'Countryside, outdoors', 'Dancing', 'Musical instruments', 'Writing',\n",
      "       'Passive sport', 'Active sport', 'Gardening', 'Celebrities', 'Shopping',\n",
      "       'Theatre', 'Fun with friends', 'Adrenaline sports', 'Pets', 'Flying',\n",
      "       'Storm', 'Darkness', 'Spiders', 'Snakes', 'Rats', 'Ageing',\n",
      "       'Fear of public speaking', 'Smoking', 'Prioritising workload',\n",
      "       'Writing notes', 'Workaholism', 'Final judgement', 'Keeping promises',\n",
      "       'Loss of interest', 'Fake', 'Criminal damage', 'Elections',\n",
      "       'Self-criticism', 'Judgment calls', 'Hypochondria', 'Empathy',\n",
      "       'Eating to survive', 'Giving', 'Borrowed stuff', 'Loneliness', 'Health',\n",
      "       'Dreams', 'Number of friends', 'Lying', 'Waiting', 'New environment',\n",
      "       'Mood swings', 'Children', 'Assertiveness', 'Knowing the right people',\n",
      "       'Public speaking', 'Unpopularity', 'Life struggles', 'Energy levels',\n",
      "       'Finding lost valuables', 'Questionnaires or polls', 'Internet usage',\n",
      "       'Finances', 'Entertainment spending', 'Spending on gadgets',\n",
      "       'Spending on healthy eating', 'Age', 'Height', 'Weight',\n",
      "       'Number of siblings', 'Left - right handed', 'Village - town'],\n",
      "      dtype='object')\n"
     ]
    }
   ],
   "source": [
    "cols = test.get_support(indices=True)\n",
    "#print(cols)\n",
    "colnames=df.columns[cols]\n",
    "print(colnames)\n"
   ]
  },
  {
   "cell_type": "markdown",
   "metadata": {},
   "source": [
    "Let's see how the features are corelated with each other."
   ]
  },
  {
   "cell_type": "code",
   "execution_count": 31,
   "metadata": {},
   "outputs": [
    {
     "data": {
      "image/png": "[encoded data removed]",
      "text/plain": [
       "<Figure size 432x288 with 2 Axes>"
      ]
     },
     "metadata": {},
     "output_type": "display_data"
    }
   ],
   "source": [
    "def correlation_matrix(df):\n",
    "    from matplotlib import pyplot as plt\n",
    "    from matplotlib import cm as cm\n",
    "\n",
    "    fig = plt.figure()\n",
    "    ax1 = fig.add_subplot(111)\n",
    "    cmap = cm.get_cmap('jet', 30)\n",
    "    cax = ax1.imshow(df.corr(), interpolation=\"nearest\", cmap=cmap)\n",
    "    ax1.grid(True)\n",
    "    plt.title(' Feature Correlation')\n",
    "    labels=['Music','Slow songs or fast songs','Documentary','Musical instrumentst','Whole','Shucked','Viscera','Dancing','Musical instruments',]\n",
    "    ax1.set_xticklabels(labels,fontsize=6)\n",
    "    ax1.set_yticklabels(labels,fontsize=6)\n",
    "    # Add colorbar, make sure to specify tick locations to match desired ticklabels\n",
    "    fig.colorbar(cax, ticks=[.75,.8,.85,.90,.95,1])\n",
    "    plt.show()\n",
    "\n",
    "correlation_matrix(df)"
   ]
  },
  {
   "cell_type": "markdown",
   "metadata": {},
   "source": [
    "Now, we have the best features, we can observe that Empathy seems to be highly corelated with Slow songs or fast songs!\n",
    "Let's see how strongly corelated they are!"
   ]
  },
  {
   "cell_type": "code",
   "execution_count": 32,
   "metadata": {},
   "outputs": [
    {
     "data": {
      "image/png": "[encoded data removed]",
      "text/plain": [
       "<Figure size 432x288 with 1 Axes>"
      ]
     },
     "metadata": {},
     "output_type": "display_data"
    }
   ],
   "source": [
    "from matplotlib.pyplot import subplots, show\n",
    "list1 = np.squeeze(df['Slow songs or fast songs'].values).tolist()\n",
    "list2 = np.squeeze(df['Empathy'].values).tolist()\n",
    "x = range(1010)\n",
    "\n",
    "fig, ax = subplots()\n",
    "ax.plot(x, list2,color='orange')\n",
    "ax.plot(x,list1,color='red')\n",
    "ax.set_xlabel(\"Index(1- 1010)\")\n",
    "ax.set_ylabel(\"Empathy(Orange) vs Slow songs or fast songs(red)\")\n",
    "show()"
   ]
  },
  {
   "cell_type": "markdown",
   "metadata": {},
   "source": [
    "Let's see how Empathy is corelated with the least best feature, Village - town!"
   ]
  },
  {
   "cell_type": "code",
   "execution_count": 33,
   "metadata": {},
   "outputs": [
    {
     "data": {
      "image/png": "[encoded data removed]",
      "text/plain": [
       "<Figure size 432x288 with 1 Axes>"
      ]
     },
     "metadata": {},
     "output_type": "display_data"
    }
   ],
   "source": [
    "from matplotlib.pyplot import subplots, show\n",
    "list1 = np.squeeze(df['Village - town'].values).tolist()\n",
    "list2 = np.squeeze(df['Empathy'].values).tolist()\n",
    "x = range(1010)\n",
    "\n",
    "fig, ax = subplots()\n",
    "ax.plot(x, list2,color='orange')\n",
    "ax.plot(x,list1,color='blue')\n",
    "ax.set_xlabel(\"Index(1- 1010)\")\n",
    "ax.set_ylabel(\"Empathy(Orange) vs Slow songs or fast songs(blue)\")\n",
    "show()"
   ]
  },
  {
   "cell_type": "markdown",
   "metadata": {},
   "source": [
    "We have now finished preprocessing the data.We seperate the train, developemnt and test sets as shown below. We will train our models, in the train set, hypertune the parameters in the dev set.We will find the best parameters for each model and predict the labels in the test set and evaluate the performances of the model."
   ]
  },
  {
   "cell_type": "code",
   "execution_count": 34,
   "metadata": {},
   "outputs": [
    {
     "name": "stdout",
     "output_type": "stream",
     "text": [
      "Partitioning the dataset into train, dev and test\n"
     ]
    }
   ],
   "source": [
    "print(\"Partitioning the dataset into train, dev and test\")\n",
    "y = y_all[:int(len(y_all)*0.8)]\n",
    "y_test = y_all[int(len(y_all)*0.8):]\n",
    "x = x_all[:int(len(x_all)*0.8)]\n",
    "x_test = x_all[int(len(x_all)*0.8):]\n",
    "\n",
    "x_train, x_dev, y_train, y_dev = model_selection.train_test_split(x, y, test_size=20, random_state=50)\n"
   ]
  },
  {
   "cell_type": "markdown",
   "metadata": {},
   "source": [
    "# Evaluating the performance of models on the train set using cross validation"
   ]
  },
  {
   "cell_type": "code",
   "execution_count": 35,
   "metadata": {},
   "outputs": [
    {
     "name": "stdout",
     "output_type": "stream",
     "text": [
      "Evaluating classifiers on the training data using 10 fold cross validation\n",
      "Accuracy for Dummy Classifier is\n",
      "36.28854268094774 %\n",
      "Accuracy for SVC is\n",
      "41.23823433950016 %\n",
      "Accuracy for KNN is\n",
      "34.7598182408309 %\n",
      "Accuracy for Logistic Regression is\n",
      "71.06134371957158 %\n",
      "Accuracy for Random Forest is\n",
      "74.4888023369036 %\n"
     ]
    }
   ],
   "source": [
    "from sklearn.dummy import DummyClassifier\n",
    "from sklearn.svm import SVC\n",
    "from sklearn.neighbors import KNeighborsClassifier\n",
    "from sklearn.metrics import accuracy_score\n",
    "from sklearn.model_selection import GridSearchCV\n",
    "import warnings\n",
    "dummy=DummyClassifier(strategy='most_frequent')\n",
    "models=[]\n",
    "results=[]\n",
    "names=[]\n",
    "models.append(('Dummy Classifier',DummyClassifier(strategy='most_frequent')))\n",
    "models.append(('SVC',SVC()))\n",
    "models.append(('KNN',KNeighborsClassifier()))\n",
    "models.append(('Logistic Regression',LogisticRegression()))\n",
    "models.append(('Random Forest',RandomForestClassifier(random_state=1)))\n",
    "print(\"Evaluating classifiers on the training data using 10 fold cross validation\")\n",
    "for name,model in models:\n",
    "    \n",
    "            #print(\"Evaluating classifiers on the training data using 10 fold cross validation\")\n",
    "            kfold = model_selection.KFold(n_splits=10, random_state=50)\n",
    "            pred = model_selection.cross_val_score(model, x_train, y_train, cv=kfold, scoring='accuracy')\n",
    "            results.append(pred)\n",
    "            names.append(name)\n",
    "            print(\"Accuracy for\", name,\"is\")\n",
    "            print( pred.mean()*100, \"%\")\n"
   ]
  },
  {
   "cell_type": "code",
   "execution_count": 36,
   "metadata": {},
   "outputs": [
    {
     "data": {
      "image/png": "[encoded data removed]",
      "text/plain": [
       "<Figure size 432x288 with 1 Axes>"
      ]
     },
     "metadata": {},
     "output_type": "display_data"
    }
   ],
   "source": [
    "fig = plt.figure()\n",
    "fig.suptitle('Algorithm Comparison')\n",
    "ax = fig.add_subplot(111)\n",
    "plt.boxplot(results)\n",
    "ax.set_xticklabels(names)\n",
    "plt.show()"
   ]
  },
  {
   "cell_type": "markdown",
   "metadata": {},
   "source": [
    "# Hyperparameter Tuning - We tune the hyper parameters for the models listed above using GridSearchCV"
   ]
  },
  {
   "cell_type": "markdown",
   "metadata": {},
   "source": [
    "Let's begin with random forest!"
   ]
  },
  {
   "cell_type": "code",
   "execution_count": 37,
   "metadata": {},
   "outputs": [
    {
     "name": "stdout",
     "output_type": "stream",
     "text": [
      "Accuracy on the development data:  80.0 %\n"
     ]
    }
   ],
   "source": [
    "\n",
    "rfc=RandomForestClassifier(random_state=42)\n",
    "param_grid = { \n",
    "    'n_estimators': [200, 500],\n",
    "    'max_features': ['auto', 'sqrt', 'log2'],\n",
    "    'max_depth' : [4,5,6,7,8],\n",
    "    'criterion' :['gini', 'entropy']\n",
    "}\n",
    "CV_rfc = GridSearchCV(estimator=rfc, param_grid=param_grid, cv= 5)\n",
    "model=CV_rfc.fit(x_train, y_train)\n",
    "\n",
    "#model = GS.fit(x_train, y_train)\n",
    "pred_dev = model.predict(x_dev)\n",
    "print(\"Accuracy on the development data: \",accuracy_score(y_dev, pred_dev)*100, \"%\")"
   ]
  },
  {
   "cell_type": "markdown",
   "metadata": {},
   "source": [
    "Let's find the best parameters!"
   ]
  },
  {
   "cell_type": "code",
   "execution_count": 38,
   "metadata": {},
   "outputs": [
    {
     "name": "stdout",
     "output_type": "stream",
     "text": [
      "best parameters found through GridSearch for Random Forest:  {'bootstrap': True, 'class_weight': None, 'criterion': 'entropy', 'max_depth': 7, 'max_features': 'auto', 'max_leaf_nodes': None, 'min_impurity_decrease': 0.0, 'min_impurity_split': None, 'min_samples_leaf': 1, 'min_samples_split': 2, 'min_weight_fraction_leaf': 0.0, 'n_estimators': 200, 'n_jobs': 1, 'oob_score': False, 'random_state': 42, 'verbose': 0, 'warm_start': False}\n"
     ]
    }
   ],
   "source": [
    "params = model.best_estimator_.get_params()\n",
    "print(\"best parameters found through GridSearch for Random Forest: \",params)"
   ]
  },
  {
   "cell_type": "markdown",
   "metadata": {},
   "source": [
    "We now fit the model using the best parameters."
   ]
  },
  {
   "cell_type": "code",
   "execution_count": 39,
   "metadata": {},
   "outputs": [
    {
     "data": {
      "text/plain": [
       "RandomForestClassifier(bootstrap=True, class_weight=None, criterion='entropy',\n",
       "            max_depth=7, max_features='auto', max_leaf_nodes=None,\n",
       "            min_impurity_decrease=0.0, min_impurity_split=None,\n",
       "            min_samples_leaf=1, min_samples_split=2,\n",
       "            min_weight_fraction_leaf=0.0, n_estimators=200, n_jobs=1,\n",
       "            oob_score=False, random_state=None, verbose=0,\n",
       "            warm_start=False)"
      ]
     },
     "execution_count": 39,
     "metadata": {},
     "output_type": "execute_result"
    }
   ],
   "source": [
    "\n",
    "model = RandomForestClassifier(bootstrap=params['bootstrap'], criterion=params['criterion'], max_depth=params['max_depth'], n_estimators=params['n_estimators'])\n",
    "model.fit(x_train, y_train)"
   ]
  },
  {
   "cell_type": "markdown",
   "metadata": {},
   "source": [
    "Let's now hypertune parameters for Logistic regression"
   ]
  },
  {
   "cell_type": "code",
   "execution_count": 55,
   "metadata": {},
   "outputs": [
    {
     "name": "stdout",
     "output_type": "stream",
     "text": [
      "Checking accuracy of Logistic Regression on Development Set\n",
      "Tuning hyperparameters on the validation data\n"
     ]
    }
   ],
   "source": [
    "from sklearn.metrics import accuracy_score\n",
    "from sklearn.model_selection import GridSearchCV\n",
    "import warnings\n",
    "\n",
    "warnings.filterwarnings(\"ignore\", category=UserWarning)\n",
    "\n",
    "print(\"Checking accuracy of Logistic Regression on Development Set\")\n",
    "print(\"Tuning hyperparameters on the validation data\")\n",
    "\n",
    "logistic = LogisticRegression()\n",
    "C = np.logspace(0, 4, 5)\n",
    "multiclass=['ovr','multinomial']\n",
    "solver=['newton-cg','lbfgs','saga']\n",
    "hyperparameters = dict(C=C, multi_class=multiclass, solver=solver)\n",
    "GS = GridSearchCV(logistic, hyperparameters, cv=10, verbose=0)\n",
    "modellr = GS.fit(x_train, y_train)\n",
    "#pred_devlr = modellr.predict(x_dev)\n",
    "#print(\"Accuracy on the development data: \",accuracy_score(y_dev, pred_devlr)*100, \"%\")"
   ]
  },
  {
   "cell_type": "markdown",
   "metadata": {},
   "source": [
    "We now get the best parameters for Logistic regression"
   ]
  },
  {
   "cell_type": "code",
   "execution_count": 56,
   "metadata": {},
   "outputs": [
    {
     "name": "stdout",
     "output_type": "stream",
     "text": [
      "best parameters found through GridSearch for Logistic Regression:  {'C': 10000.0, 'class_weight': None, 'dual': False, 'fit_intercept': True, 'intercept_scaling': 1, 'max_iter': 100, 'multi_class': 'multinomial', 'n_jobs': 1, 'penalty': 'l2', 'random_state': None, 'solver': 'newton-cg', 'tol': 0.0001, 'verbose': 0, 'warm_start': False}\n"
     ]
    }
   ],
   "source": [
    "paramslr = modellr.best_estimator_.get_params()\n",
    "print(\"best parameters found through GridSearch for Logistic Regression: \",paramslr)"
   ]
  },
  {
   "cell_type": "markdown",
   "metadata": {},
   "source": [
    "Let's predict the label on the development set and evaluate the performance."
   ]
  },
  {
   "cell_type": "code",
   "execution_count": 57,
   "metadata": {},
   "outputs": [
    {
     "name": "stdout",
     "output_type": "stream",
     "text": [
      "Accuracy on the development data:  95.0 %\n"
     ]
    }
   ],
   "source": [
    "\n",
    "pred_devlr=modellr.predict(x_dev)\n",
    "print(\"Accuracy on the development data: \",accuracy_score(y_dev, pred_devlr)*100, \"%\")"
   ]
  },
  {
   "cell_type": "markdown",
   "metadata": {},
   "source": [
    "We repeat what we did for Random Forest and Logistic Regression to K Nearest Neighbors and Support Vector machines, as shown below.\n",
    "We hypertune the parameters of each of these models using GridSearchCV, to find the best parameters and we evaluate how they perform using the accuracy_score metric"
   ]
  },
  {
   "cell_type": "code",
   "execution_count": 43,
   "metadata": {},
   "outputs": [
    {
     "name": "stdout",
     "output_type": "stream",
     "text": [
      "[1, 2, 3, 4, 5, 6, 7, 8, 9, 10, 11, 12, 13, 14, 15, 16, 17, 18, 19, 20, 21, 22, 23, 24, 25, 26, 27, 28, 29, 30]\n",
      "{'n_neighbors': [1, 2, 3, 4, 5, 6, 7, 8, 9, 10, 11, 12, 13, 14, 15, 16, 17, 18, 19, 20, 21, 22, 23, 24, 25, 26, 27, 28, 29, 30]}\n",
      "Accuracy on the development data:  30.0 %\n"
     ]
    }
   ],
   "source": [
    "\n",
    "knn=KNeighborsClassifier()\n",
    "k_range = list(range(1, 31))\n",
    "print(k_range)\n",
    "\n",
    "param_grid = dict(n_neighbors=k_range)\n",
    "print(param_grid)\n",
    "\n",
    "grid = GridSearchCV(knn, param_grid, cv=10, scoring='accuracy')\n",
    "grid.fit(x_train,y_train)\n",
    "predknn=grid.predict(x_dev)\n",
    "print(\"Accuracy on the development data: \",accuracy_score(y_dev, predknn)*100, \"%\")"
   ]
  },
  {
   "cell_type": "code",
   "execution_count": 44,
   "metadata": {},
   "outputs": [
    {
     "name": "stdout",
     "output_type": "stream",
     "text": [
      "best parameters found through GridSearch for KNN:  {'algorithm': 'auto', 'leaf_size': 30, 'metric': 'minkowski', 'metric_params': None, 'n_jobs': 1, 'n_neighbors': 20, 'p': 2, 'weights': 'uniform'}\n"
     ]
    }
   ],
   "source": [
    "paramsknn = grid.best_estimator_.get_params()\n",
    "print(\"best parameters found through GridSearch for KNN: \",paramsknn)"
   ]
  },
  {
   "cell_type": "code",
   "execution_count": 45,
   "metadata": {},
   "outputs": [
    {
     "name": "stdout",
     "output_type": "stream",
     "text": [
      "Making predictions on the test data\n",
      "Accuracy on the development data:  30.0 %\n"
     ]
    }
   ],
   "source": [
    "print(\"Making predictions on the test data\")\n",
    "grid =KNeighborsClassifier(algorithm=paramsknn['algorithm'], metric=paramsknn['metric'], weights=paramsknn['weights'])\n",
    "grid.fit(x_train, y_train)\n",
    "predknn=grid.predict(x_dev)\n",
    "print(\"Accuracy on the development data: \",accuracy_score(y_dev, predknn)*100, \"%\")"
   ]
  },
  {
   "cell_type": "markdown",
   "metadata": {},
   "source": [
    "We repeat the same procedure for SVM and evaluate it's performance in the development set"
   ]
  },
  {
   "cell_type": "code",
   "execution_count": 46,
   "metadata": {},
   "outputs": [],
   "source": [
    "Cs = [0.001, 0.01, 0.1, 1, 10]\n",
    "gammas = [0.001, 0.01, 0.1, 1]\n",
    "param_grid = {'C': Cs, 'gamma' : gammas}\n",
    "grid_search = GridSearchCV(SVC(kernel='rbf'), param_grid)\n",
    "\n",
    "#grid_search.best_params_"
   ]
  },
  {
   "cell_type": "code",
   "execution_count": 47,
   "metadata": {},
   "outputs": [
    {
     "data": {
      "text/plain": [
       "GridSearchCV(cv=None, error_score='raise',\n",
       "       estimator=SVC(C=1.0, cache_size=200, class_weight=None, coef0=0.0,\n",
       "  decision_function_shape='ovr', degree=3, gamma='auto', kernel='rbf',\n",
       "  max_iter=-1, probability=False, random_state=None, shrinking=True,\n",
       "  tol=0.001, verbose=False),\n",
       "       fit_params=None, iid=True, n_jobs=1,\n",
       "       param_grid={'C': [0.001, 0.01, 0.1, 1, 10], 'gamma': [0.001, 0.01, 0.1, 1]},\n",
       "       pre_dispatch='2*n_jobs', refit=True, return_train_score='warn',\n",
       "       scoring=None, verbose=0)"
      ]
     },
     "execution_count": 47,
     "metadata": {},
     "output_type": "execute_result"
    }
   ],
   "source": [
    "grid_search.fit(x_train, y_train)"
   ]
  },
  {
   "cell_type": "code",
   "execution_count": 48,
   "metadata": {},
   "outputs": [
    {
     "name": "stdout",
     "output_type": "stream",
     "text": [
      "best parameters found through GridSearch for SVM:  {'C': 10, 'cache_size': 200, 'class_weight': None, 'coef0': 0.0, 'decision_function_shape': 'ovr', 'degree': 3, 'gamma': 0.001, 'kernel': 'rbf', 'max_iter': -1, 'probability': False, 'random_state': None, 'shrinking': True, 'tol': 0.001, 'verbose': False}\n"
     ]
    }
   ],
   "source": [
    "paramsvm = grid_search.best_estimator_.get_params()\n",
    "print(\"best parameters found through GridSearch for SVM: \",paramsvm)"
   ]
  },
  {
   "cell_type": "code",
   "execution_count": 58,
   "metadata": {},
   "outputs": [
    {
     "name": "stdout",
     "output_type": "stream",
     "text": [
      "Accuracy on the development data:  90.0 %\n"
     ]
    }
   ],
   "source": [
    "\n",
    "grid_search = SVC(C=paramsvm['C'], cache_size=paramsvm['cache_size'], kernel=paramsvm['kernel'], gamma=paramsvm['gamma'])\n",
    "grid_search.fit(x_train, y_train)\n",
    "predsvm=grid_search.predict(x_dev)\n",
    "print(\"Accuracy on the development data: \",accuracy_score(y_dev, predsvm)*100, \"%\")"
   ]
  },
  {
   "cell_type": "code",
   "execution_count": 59,
   "metadata": {},
   "outputs": [],
   "source": [
    "def cm_analysis(y_true, y_pred, labels, ymap=None, figsize=(10,10)):\n",
    "    \"\"\"\n",
    "    Generate matrix plot of confusion matrix with pretty annotations.\n",
    "    The plot image is saved to disk.\n",
    "    args: \n",
    "      y_true:    true label of the data, with shape (nsamples,)\n",
    "      y_pred:    prediction of the data, with shape (nsamples,)\n",
    "      filename:  filename of figure file to save\n",
    "      labels:    string array, name the order of class labels in the confusion matrix.\n",
    "                 use `clf.classes_` if using scikit-learn models.\n",
    "                 with shape (nclass,).\n",
    "      ymap:      dict: any -> string, length == nclass.\n",
    "                 if not None, map the labels & ys to more understandable strings.\n",
    "                 Caution: original y_true, y_pred and labels must align.\n",
    "      figsize:   the size of the figure plotted.\n",
    "    \"\"\"\n",
    "    if ymap is not None:\n",
    "        y_pred = [ymap[yi] for yi in y_pred]\n",
    "        y_true = [ymap[yi] for yi in y_true]\n",
    "        labels = [ymap[yi] for yi in labels]\n",
    "    cm = confusion_matrix(y_true, y_pred, labels=labels)\n",
    "    cm_sum = np.sum(cm, axis=1, keepdims=True)\n",
    "    cm_perc = cm / cm_sum.astype(float) * 100\n",
    "    annot = np.empty_like(cm).astype(str)\n",
    "    nrows, ncols = cm.shape\n",
    "    for i in range(nrows):\n",
    "        for j in range(ncols):\n",
    "            c = cm[i, j]\n",
    "            p = cm_perc[i, j]\n",
    "            if i == j:\n",
    "                s = cm_sum[i]\n",
    "                annot[i, j] = '%.1f%%\\n%d/%d' % (p, c, s)\n",
    "            elif c == 0:\n",
    "                annot[i, j] = ''\n",
    "            else:\n",
    "                annot[i, j] = '%.1f%%\\n%d' % (p, c)\n",
    "    cm = pd.DataFrame(cm, index=labels, columns=labels)\n",
    "    cm.index.name = 'Actual'\n",
    "    cm.columns.name = 'Predicted'\n",
    "    fig, ax = plt.subplots(figsize=figsize)\n",
    "    sns.heatmap(cm, annot=annot, fmt='', ax=ax)\n",
    "    #plt.savefig(filename)"
   ]
  },
  {
   "cell_type": "markdown",
   "metadata": {},
   "source": [
    "# Models are evaluated in the test set "
   ]
  },
  {
   "cell_type": "markdown",
   "metadata": {},
   "source": [
    "Let's look at the accuracies of these models on the test data and their confusion matrices.\n",
    "The confusion matrices are displayed in the same order as the accuracies."
   ]
  },
  {
   "cell_type": "code",
   "execution_count": 54,
   "metadata": {},
   "outputs": [
    {
     "name": "stdout",
     "output_type": "stream",
     "text": [
      "Accuracy on the test data for Dummy Classifier:  34.65346534653465 %\n",
      "Accuracy on the test data for Random Forest:  80.19801980198021 %\n",
      "Accuracy on the test data for Logistic Regression:  89.10891089108911 %\n",
      "Accuracy on the test data for KNN:  34.65346534653465 %\n",
      "Accuracy on the test data for SVM:  74.75247524752476 %\n"
     ]
    },
    {
     "data": {
      "image/png": "[encoded data removed]",
      "text/plain": [
       "<Figure size 360x360 with 2 Axes>"
      ]
     },
     "metadata": {},
     "output_type": "display_data"
    },
    {
     "data": {
      "image/png": "[encoded data removed]",
      "text/plain": [
       "<Figure size 360x360 with 2 Axes>"
      ]
     },
     "metadata": {},
     "output_type": "display_data"
    },
    {
     "data": {
      "image/png": "[encoded data removed]",
      "text/plain": [
       "<Figure size 360x360 with 2 Axes>"
      ]
     },
     "metadata": {},
     "output_type": "display_data"
    },
    {
     "data": {
      "image/png": "[encoded data removed]",
      "text/plain": [
       "<Figure size 360x360 with 2 Axes>"
      ]
     },
     "metadata": {},
     "output_type": "display_data"
    },
    {
     "data": {
      "image/png": "[encoded data removed]",
      "text/plain": [
       "<Figure size 360x360 with 2 Axes>"
      ]
     },
     "metadata": {},
     "output_type": "display_data"
    }
   ],
   "source": [
    "from sklearn.metrics import accuracy_score\n",
    "from sklearn.metrics import confusion_matrix\n",
    "import seaborn as sns\n",
    "modeldummy=dummy.fit(x_train,y_train)\n",
    "pred_dummy = modeldummy.predict(x_test)\n",
    "pred_list=list(pred_dummy)\n",
    "print(\"Accuracy on the test data for Dummy Classifier: \",accuracy_score(y_test, pred_dummy)*100, \"%\")\n",
    "#cm = confusion_matrix(y_test, pred_dummy)\n",
    "#print(cm)\n",
    "#fig = plt.figure()\n",
    "cm_analysis(y_test,pred_dummy,dummy.classes_,None,figsize=(5,5))\n",
    "pred_test = model.predict(x_test)\n",
    "print(\"Accuracy on the test data for Random Forest: \",accuracy_score(y_test, pred_test)*100, \"%\")\n",
    "cm_analysis(y_test,pred_test,model.classes_,None,figsize=(5,5))\n",
    "pred_testlr = modellr.predict(x_test)\n",
    "print(\"Accuracy on the test data for Logistic Regression: \",accuracy_score(y_test, pred_testlr)*100, \"%\")\n",
    "cm_analysis(y_test,pred_testlr,modellr.classes_,None,figsize=(5,5))\n",
    "pred_testknn = grid.predict(x_test)\n",
    "print(\"Accuracy on the test data for KNN: \",accuracy_score(y_test, pred_testknn)*100, \"%\")\n",
    "cm_analysis(y_test,pred_testknn,grid.classes_,None,figsize=(5,5))\n",
    "pred_testsvm = grid_search.predict(x_test)\n",
    "print(\"Accuracy on the test data for SVM: \",accuracy_score(y_test, pred_testsvm)*100, \"%\")\n",
    "cm_analysis(y_test,pred_testsvm,grid_search.classes_,None,figsize=(5,5))"
   ]
  },
  {
   "cell_type": "code",
   "execution_count": null,
   "metadata": {},
   "outputs": [],
   "source": []
  }
 ],
 "metadata": {
  "kernelspec": {
   "display_name": "Python 3",
   "language": "python",
   "name": "python3"
  },
  "language_info": {
   "codemirror_mode": {
    "name": "ipython",
    "version": 3
   },
   "file_extension": ".py",
   "mimetype": "text/x-python",
   "name": "python",
   "nbconvert_exporter": "python",
   "pygments_lexer": "ipython3",
   "version": "3.6.5"
  }
 },
 "nbformat": 4,
 "nbformat_minor": 2
}
